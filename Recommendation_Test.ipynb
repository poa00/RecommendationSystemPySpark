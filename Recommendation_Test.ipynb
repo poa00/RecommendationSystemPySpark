{
  "nbformat": 4,
  "nbformat_minor": 0,
  "metadata": {
    "colab": {
      "name": "Recommendation_Test.ipynb",
      "provenance": [],
      "collapsed_sections": []
    },
    "kernelspec": {
      "name": "python3",
      "display_name": "Python 3"
    }
  },
  "cells": [
    {
      "cell_type": "markdown",
      "metadata": {
        "id": "eDZ2D_RwcW03"
      },
      "source": [
        "# **Setting up the Environment**\n",
        "\n",
        "All the necessary paths for datasets on drive and jdk are passed. \n",
        "Also all the required libraries are installed and imported along with configuration of spark context for future use.\n"
      ]
    },
    {
      "cell_type": "code",
      "metadata": {
        "id": "8Od_GWO_fPl5",
        "colab": {
          "base_uri": "https://localhost:8080/",
          "height": 121
        },
        "outputId": "9515eeb6-0335-477f-bd56-e70985109ed7"
      },
      "source": [
        "# Mounting the google drive for easy access of the dataset \n",
        "from google.colab import drive\n",
        "drive.mount('/content/drive')"
      ],
      "execution_count": null,
      "outputs": [
        {
          "output_type": "stream",
          "text": [
            "Go to this URL in a browser: https://accounts.google.com/o/oauth2/auth?client_id=947318989803-6bn6qk8qdgf4n4g3pfee6491hc0brc4i.apps.googleusercontent.com&redirect_uri=urn%3aietf%3awg%3aoauth%3a2.0%3aoob&response_type=code&scope=email%20https%3a%2f%2fwww.googleapis.com%2fauth%2fdocs.test%20https%3a%2f%2fwww.googleapis.com%2fauth%2fdrive%20https%3a%2f%2fwww.googleapis.com%2fauth%2fdrive.photos.readonly%20https%3a%2f%2fwww.googleapis.com%2fauth%2fpeopleapi.readonly\n",
            "\n",
            "Enter your authorization code:\n",
            "··········\n",
            "Mounted at /content/drive\n"
          ],
          "name": "stdout"
        }
      ]
    },
    {
      "cell_type": "code",
      "metadata": {
        "id": "AHOJnVdydXu8"
      },
      "source": [
        "# Path for Java\n",
        "JAVA_HOME = \"/usr/lib/jvm/java-8-openjdk-amd64\""
      ],
      "execution_count": null,
      "outputs": []
    },
    {
      "cell_type": "markdown",
      "metadata": {
        "id": "p8yXGbnZJGRj"
      },
      "source": [
        "#**PySpark implementation**"
      ]
    },
    {
      "cell_type": "code",
      "metadata": {
        "id": "OgWg4ziwdTRA",
        "colab": {
          "base_uri": "https://localhost:8080/",
          "height": 874
        },
        "outputId": "fad3b241-56fc-4973-c1fd-fb845351656f"
      },
      "source": [
        "!pip install pyspark\n",
        "!pip install -U -q PyDrive\n",
        "!apt install openjdk-8-jdk-headless -qq\n",
        "import os\n",
        "os.environ[\"JAVA_HOME\"] = JAVA_HOME"
      ],
      "execution_count": null,
      "outputs": [
        {
          "output_type": "stream",
          "text": [
            "Collecting pyspark\n",
            "\u001b[?25l  Downloading https://files.pythonhosted.org/packages/8e/b0/bf9020b56492281b9c9d8aae8f44ff51e1bc91b3ef5a884385cb4e389a40/pyspark-3.0.0.tar.gz (204.7MB)\n",
            "\u001b[K     |████████████████████████████████| 204.7MB 66kB/s \n",
            "\u001b[?25hCollecting py4j==0.10.9\n",
            "\u001b[?25l  Downloading https://files.pythonhosted.org/packages/9e/b6/6a4fb90cd235dc8e265a6a2067f2a2c99f0d91787f06aca4bcf7c23f3f80/py4j-0.10.9-py2.py3-none-any.whl (198kB)\n",
            "\u001b[K     |████████████████████████████████| 204kB 44.0MB/s \n",
            "\u001b[?25hBuilding wheels for collected packages: pyspark\n",
            "  Building wheel for pyspark (setup.py) ... \u001b[?25l\u001b[?25hdone\n",
            "  Created wheel for pyspark: filename=pyspark-3.0.0-py2.py3-none-any.whl size=205044182 sha256=acf76f71a021f2ee1ba022b4b66230d85396afb07c5365eee278266cd89840de\n",
            "  Stored in directory: /root/.cache/pip/wheels/57/27/4d/ddacf7143f8d5b76c45c61ee2e43d9f8492fc5a8e78ebd7d37\n",
            "Successfully built pyspark\n",
            "Installing collected packages: py4j, pyspark\n",
            "Successfully installed py4j-0.10.9 pyspark-3.0.0\n",
            "The following package was automatically installed and is no longer required:\n",
            "  libnvidia-common-440\n",
            "Use 'apt autoremove' to remove it.\n",
            "The following additional packages will be installed:\n",
            "  openjdk-8-jre-headless\n",
            "Suggested packages:\n",
            "  openjdk-8-demo openjdk-8-source libnss-mdns fonts-dejavu-extra\n",
            "  fonts-ipafont-gothic fonts-ipafont-mincho fonts-wqy-microhei\n",
            "  fonts-wqy-zenhei fonts-indic\n",
            "The following NEW packages will be installed:\n",
            "  openjdk-8-jdk-headless openjdk-8-jre-headless\n",
            "0 upgraded, 2 newly installed, 0 to remove and 33 not upgraded.\n",
            "Need to get 35.8 MB of archives.\n",
            "After this operation, 140 MB of additional disk space will be used.\n",
            "Selecting previously unselected package openjdk-8-jre-headless:amd64.\n",
            "(Reading database ... 144379 files and directories currently installed.)\n",
            "Preparing to unpack .../openjdk-8-jre-headless_8u252-b09-1~18.04_amd64.deb ...\n",
            "Unpacking openjdk-8-jre-headless:amd64 (8u252-b09-1~18.04) ...\n",
            "Selecting previously unselected package openjdk-8-jdk-headless:amd64.\n",
            "Preparing to unpack .../openjdk-8-jdk-headless_8u252-b09-1~18.04_amd64.deb ...\n",
            "Unpacking openjdk-8-jdk-headless:amd64 (8u252-b09-1~18.04) ...\n",
            "Setting up openjdk-8-jre-headless:amd64 (8u252-b09-1~18.04) ...\n",
            "update-alternatives: using /usr/lib/jvm/java-8-openjdk-amd64/jre/bin/orbd to provide /usr/bin/orbd (orbd) in auto mode\n",
            "update-alternatives: using /usr/lib/jvm/java-8-openjdk-amd64/jre/bin/servertool to provide /usr/bin/servertool (servertool) in auto mode\n",
            "update-alternatives: using /usr/lib/jvm/java-8-openjdk-amd64/jre/bin/tnameserv to provide /usr/bin/tnameserv (tnameserv) in auto mode\n",
            "Setting up openjdk-8-jdk-headless:amd64 (8u252-b09-1~18.04) ...\n",
            "update-alternatives: using /usr/lib/jvm/java-8-openjdk-amd64/bin/idlj to provide /usr/bin/idlj (idlj) in auto mode\n",
            "update-alternatives: using /usr/lib/jvm/java-8-openjdk-amd64/bin/wsimport to provide /usr/bin/wsimport (wsimport) in auto mode\n",
            "update-alternatives: using /usr/lib/jvm/java-8-openjdk-amd64/bin/jsadebugd to provide /usr/bin/jsadebugd (jsadebugd) in auto mode\n",
            "update-alternatives: using /usr/lib/jvm/java-8-openjdk-amd64/bin/native2ascii to provide /usr/bin/native2ascii (native2ascii) in auto mode\n",
            "update-alternatives: using /usr/lib/jvm/java-8-openjdk-amd64/bin/javah to provide /usr/bin/javah (javah) in auto mode\n",
            "update-alternatives: using /usr/lib/jvm/java-8-openjdk-amd64/bin/clhsdb to provide /usr/bin/clhsdb (clhsdb) in auto mode\n",
            "update-alternatives: using /usr/lib/jvm/java-8-openjdk-amd64/bin/extcheck to provide /usr/bin/extcheck (extcheck) in auto mode\n",
            "update-alternatives: using /usr/lib/jvm/java-8-openjdk-amd64/bin/hsdb to provide /usr/bin/hsdb (hsdb) in auto mode\n",
            "update-alternatives: using /usr/lib/jvm/java-8-openjdk-amd64/bin/schemagen to provide /usr/bin/schemagen (schemagen) in auto mode\n",
            "update-alternatives: using /usr/lib/jvm/java-8-openjdk-amd64/bin/xjc to provide /usr/bin/xjc (xjc) in auto mode\n",
            "update-alternatives: using /usr/lib/jvm/java-8-openjdk-amd64/bin/jhat to provide /usr/bin/jhat (jhat) in auto mode\n",
            "update-alternatives: using /usr/lib/jvm/java-8-openjdk-amd64/bin/wsgen to provide /usr/bin/wsgen (wsgen) in auto mode\n"
          ],
          "name": "stdout"
        }
      ]
    },
    {
      "cell_type": "code",
      "metadata": {
        "id": "zTe5w5APYG8V",
        "colab": {
          "base_uri": "https://localhost:8080/",
          "height": 70
        },
        "outputId": "86ee14fe-486c-422c-a218-eb7c94c2d46c"
      },
      "source": [
        "# Installing and importing the required python libraries\n",
        "import requests\n",
        "import numpy as np\n",
        "import pandas as pd\n",
        "import seaborn as sns\n",
        "import matplotlib.pyplot as plt\n",
        "import time\n",
        "%matplotlib inline\n",
        "\n",
        "import pyspark\n",
        "from pyspark.sql import *\n",
        "from pyspark.sql.types import *\n",
        "from pyspark.sql.functions import *\n",
        "from pyspark import SparkContext, SparkConf"
      ],
      "execution_count": null,
      "outputs": [
        {
          "output_type": "stream",
          "text": [
            "/usr/local/lib/python3.6/dist-packages/statsmodels/tools/_testing.py:19: FutureWarning: pandas.util.testing is deprecated. Use the functions in the public API at pandas.testing instead.\n",
            "  import pandas.util.testing as tm\n"
          ],
          "name": "stderr"
        }
      ]
    },
    {
      "cell_type": "code",
      "metadata": {
        "id": "R8PUEoj6ffLQ"
      },
      "source": [
        "# import the SparkConfiguration and SparkContext\n",
        "# if we wanted to change any configuration settings for this session only we would define them here\n",
        "conf = (SparkConf()\n",
        "        .setMaster(\"local\")\n",
        "        .setAppName(\"Recommender_System\")\n",
        "        .set(\"spark.executor.memory\", \"16G\")\n",
        "        .set(\"spark.driver.memory\", \"16G\")\n",
        "        .set(\"spark.executor.cores\", \"8\"))\n",
        "# create a SparkContext using the above configuration\n",
        "sc = SparkContext(conf=conf)\n",
        "spark = SparkSession.builder.getOrCreate()"
      ],
      "execution_count": null,
      "outputs": []
    },
    {
      "cell_type": "code",
      "metadata": {
        "id": "H22uaQRdxL4I",
        "colab": {
          "base_uri": "https://localhost:8080/",
          "height": 214
        },
        "outputId": "cd65af41-cd2d-4460-bf8c-f267ad41ab4e"
      },
      "source": [
        "spark"
      ],
      "execution_count": null,
      "outputs": [
        {
          "output_type": "execute_result",
          "data": {
            "text/html": [
              "\n",
              "            <div>\n",
              "                <p><b>SparkSession - in-memory</b></p>\n",
              "                \n",
              "        <div>\n",
              "            <p><b>SparkContext</b></p>\n",
              "\n",
              "            <p><a href=\"http://a9c6d3e698a5:4040\">Spark UI</a></p>\n",
              "\n",
              "            <dl>\n",
              "              <dt>Version</dt>\n",
              "                <dd><code>v3.0.0</code></dd>\n",
              "              <dt>Master</dt>\n",
              "                <dd><code>local</code></dd>\n",
              "              <dt>AppName</dt>\n",
              "                <dd><code>Recommender_System</code></dd>\n",
              "            </dl>\n",
              "        </div>\n",
              "        \n",
              "            </div>\n",
              "        "
            ],
            "text/plain": [
              "<pyspark.sql.session.SparkSession at 0x7f444fcb9a20>"
            ]
          },
          "metadata": {
            "tags": []
          },
          "execution_count": 6
        }
      ]
    },
    {
      "cell_type": "code",
      "metadata": {
        "id": "Zk4qcKC7xKol",
        "colab": {
          "base_uri": "https://localhost:8080/",
          "height": 252
        },
        "outputId": "31d4dc57-4848-4026-c34d-9fbee5c48eb1"
      },
      "source": [
        "# this command shows the current configuration settings\n",
        "sc._conf.getAll()"
      ],
      "execution_count": null,
      "outputs": [
        {
          "output_type": "execute_result",
          "data": {
            "text/plain": [
              "[('spark.master', 'local'),\n",
              " ('spark.driver.memory', '16G'),\n",
              " ('spark.driver.host', 'a9c6d3e698a5'),\n",
              " ('spark.executor.id', 'driver'),\n",
              " ('spark.driver.port', '42697'),\n",
              " ('spark.executor.memory', '16G'),\n",
              " ('spark.rdd.compress', 'True'),\n",
              " ('spark.app.id', 'local-1593720860074'),\n",
              " ('spark.serializer.objectStreamReset', '100'),\n",
              " ('spark.submit.pyFiles', ''),\n",
              " ('spark.app.name', 'Recommender_System'),\n",
              " ('spark.submit.deployMode', 'client'),\n",
              " ('spark.executor.cores', '8'),\n",
              " ('spark.ui.showConsoleProgress', 'true')]"
            ]
          },
          "metadata": {
            "tags": []
          },
          "execution_count": 7
        }
      ]
    },
    {
      "cell_type": "markdown",
      "metadata": {
        "id": "LKpJZQ36LEWg"
      },
      "source": [
        "# **Loading the Dataset**\n",
        "\n",
        "Let's read the Movie and TV ratings dataset from the Google drive and do a quick inspection of the dataset"
      ]
    },
    {
      "cell_type": "code",
      "metadata": {
        "id": "_XCnXFKNcnU4"
      },
      "source": [
        "# read in the dataset from google drive\n",
        "rating = spark.read.load(\"/content/drive/My Drive/Ratings_Movies_and_TV.csv\", \n",
        "                         format=\"csv\", \n",
        "                         inferSchema=\"true\", \n",
        "                         header=\"false\"\n",
        "                         )"
      ],
      "execution_count": null,
      "outputs": []
    },
    {
      "cell_type": "code",
      "metadata": {
        "id": "eugTilx6bUr-",
        "colab": {
          "base_uri": "https://localhost:8080/",
          "height": 34
        },
        "outputId": "e8c134ef-e99c-45ca-fd29-8fb5b0596b04"
      },
      "source": [
        "# number of rows in the dataset\n",
        "rating.count()"
      ],
      "execution_count": null,
      "outputs": [
        {
          "output_type": "execute_result",
          "data": {
            "text/plain": [
              "8765568"
            ]
          },
          "metadata": {
            "tags": []
          },
          "execution_count": 7
        }
      ]
    },
    {
      "cell_type": "code",
      "metadata": {
        "id": "54QJIKbfgsG0",
        "colab": {
          "base_uri": "https://localhost:8080/",
          "height": 454
        },
        "outputId": "0f19ebf9-87ee-4e5e-ce28-31a3c0ac0f24"
      },
      "source": [
        "# Printing the head of dataset \n",
        "rating.show()"
      ],
      "execution_count": null,
      "outputs": [
        {
          "output_type": "stream",
          "text": [
            "+----------+--------------+---+----------+\n",
            "|       _c0|           _c1|_c2|       _c3|\n",
            "+----------+--------------+---+----------+\n",
            "|0001527665|A3478QRKQDOPQ2|5.0|1362960000|\n",
            "|0001527665|A2VHSG6TZHU1OB|5.0|1361145600|\n",
            "|0001527665|A23EJWOW1TLENE|5.0|1358380800|\n",
            "|0001527665|A1KM9FNEJ8Q171|5.0|1357776000|\n",
            "|0001527665|A38LY2SSHVHRYB|4.0|1356480000|\n",
            "|0001527665| AHTYUW2H1276L|5.0|1353024000|\n",
            "|0001527665|A3M3HCZLXW0YLF|5.0|1342310400|\n",
            "|0001527665|A1OMHX76O2NC6V|1.0|1283472000|\n",
            "|0001527665|A3OBOZ41IK6O1M|1.0|1273190400|\n",
            "|0005089549|A2M1CU2IRZG0K9|5.0|1352419200|\n",
            "|0005089549|A1XIXLXK9B4DAJ|5.0|1347321600|\n",
            "|0005089549| AFTUJYISOFHY6|5.0|1325203200|\n",
            "|0005089549| AEIAQFCWNRUSE|5.0|1301702400|\n",
            "|0005089549|A16WO8T4YXGVWP|5.0|1277596800|\n",
            "|0005089549| AX7ANRP31Q7YA|5.0|1240272000|\n",
            "|0005089549| AIPN1XFK37ZWI|5.0| 933984000|\n",
            "|000503860X| A7H20K09VIXXT|4.0|1123891200|\n",
            "|000503860X|A2LGI22B6XRZVA|5.0|1123286400|\n",
            "|000503860X|A2A4GWAEM3VOW0|5.0|1116374400|\n",
            "|000503860X|A226BMXAQAJVOQ|5.0|1115942400|\n",
            "+----------+--------------+---+----------+\n",
            "only showing top 20 rows\n",
            "\n"
          ],
          "name": "stdout"
        }
      ]
    },
    {
      "cell_type": "code",
      "metadata": {
        "id": "-KYPNcq0gwR9",
        "colab": {
          "base_uri": "https://localhost:8080/",
          "height": 454
        },
        "outputId": "609b1650-a56c-46eb-9101-8661be140d45"
      },
      "source": [
        "# Renaming the columns of the dataset for Easy reference\n",
        "ratings = rating.select(col(\"_c0\").alias(\"UserId\"), col(\"_c1\").alias(\"MovieId\"),col(\"_c2\").alias(\"Rating\"),col(\"_c3\").alias(\"Timestamp\"))\n",
        "ratings.show()"
      ],
      "execution_count": null,
      "outputs": [
        {
          "output_type": "stream",
          "text": [
            "+----------+--------------+------+----------+\n",
            "|    UserId|       MovieId|Rating| Timestamp|\n",
            "+----------+--------------+------+----------+\n",
            "|0001527665|A3478QRKQDOPQ2|   5.0|1362960000|\n",
            "|0001527665|A2VHSG6TZHU1OB|   5.0|1361145600|\n",
            "|0001527665|A23EJWOW1TLENE|   5.0|1358380800|\n",
            "|0001527665|A1KM9FNEJ8Q171|   5.0|1357776000|\n",
            "|0001527665|A38LY2SSHVHRYB|   4.0|1356480000|\n",
            "|0001527665| AHTYUW2H1276L|   5.0|1353024000|\n",
            "|0001527665|A3M3HCZLXW0YLF|   5.0|1342310400|\n",
            "|0001527665|A1OMHX76O2NC6V|   1.0|1283472000|\n",
            "|0001527665|A3OBOZ41IK6O1M|   1.0|1273190400|\n",
            "|0005089549|A2M1CU2IRZG0K9|   5.0|1352419200|\n",
            "|0005089549|A1XIXLXK9B4DAJ|   5.0|1347321600|\n",
            "|0005089549| AFTUJYISOFHY6|   5.0|1325203200|\n",
            "|0005089549| AEIAQFCWNRUSE|   5.0|1301702400|\n",
            "|0005089549|A16WO8T4YXGVWP|   5.0|1277596800|\n",
            "|0005089549| AX7ANRP31Q7YA|   5.0|1240272000|\n",
            "|0005089549| AIPN1XFK37ZWI|   5.0| 933984000|\n",
            "|000503860X| A7H20K09VIXXT|   4.0|1123891200|\n",
            "|000503860X|A2LGI22B6XRZVA|   5.0|1123286400|\n",
            "|000503860X|A2A4GWAEM3VOW0|   5.0|1116374400|\n",
            "|000503860X|A226BMXAQAJVOQ|   5.0|1115942400|\n",
            "+----------+--------------+------+----------+\n",
            "only showing top 20 rows\n",
            "\n"
          ],
          "name": "stdout"
        }
      ]
    },
    {
      "cell_type": "markdown",
      "metadata": {
        "id": "DF9-q5G8xkek"
      },
      "source": [
        "# **Data Exploration**\n",
        "\n",
        "Let's investigate the data and try to find and make some observations by looking at summary statistics\n",
        "  "
      ]
    },
    {
      "cell_type": "code",
      "metadata": {
        "id": "yhLTkxxdiMmQ",
        "colab": {
          "base_uri": "https://localhost:8080/",
          "height": 50
        },
        "outputId": "b1c72d42-63c1-4d6f-9984-4aaa1c1cd7c5"
      },
      "source": [
        "print ('Distinct values of ratings:')\n",
        "print (ratings.select('Rating').distinct().rdd.map(lambda r: r[0]).collect())"
      ],
      "execution_count": null,
      "outputs": [
        {
          "output_type": "stream",
          "text": [
            "Distinct values of ratings:\n",
            "[1.0, 4.0, 3.0, 2.0, 5.0]\n"
          ],
          "name": "stdout"
        }
      ]
    },
    {
      "cell_type": "code",
      "metadata": {
        "id": "BlFmzsMZih1P",
        "colab": {
          "base_uri": "https://localhost:8080/",
          "height": 67
        },
        "outputId": "4b7ea505-f6a3-41bb-d268-26b260bee140"
      },
      "source": [
        "tmp1 = ratings.groupBy(\"UserId\").count().select('count').rdd.min()[0]\n",
        "tmp2 = ratings.groupBy(\"MovieId\").count().select('count').rdd.min()[0]\n",
        "print ('For the users that rated movies and the movies that were rated:')\n",
        "print ('Minimum number of ratings per User is {}'.format(tmp1))\n",
        "print ('Minimum number of ratings per Movie is {}'.format(tmp2))"
      ],
      "execution_count": null,
      "outputs": [
        {
          "output_type": "stream",
          "text": [
            "For the users that rated movies and the movies that were rated:\n",
            "Minimum number of ratings per User is 1\n",
            "Minimum number of ratings per Movie is 1\n"
          ],
          "name": "stdout"
        }
      ]
    },
    {
      "cell_type": "code",
      "metadata": {
        "id": "L6NSocOAiSn3",
        "colab": {
          "base_uri": "https://localhost:8080/",
          "height": 34
        },
        "outputId": "1aa497a9-321f-48cc-d12a-517f6d04177b"
      },
      "source": [
        "tmp1 = ratings.groupBy(\"movieId\").count().withColumnRenamed(\"count\", \"rating count\")\\\n",
        ".groupBy(\"rating count\").count().orderBy('rating count').first()[1]\n",
        "# Or use pandas: tmp1 = sum(ratings.groupBy(\"movieId\").count().toPandas()['count'] == 1)\n",
        "tmp2 = ratings.select('movieId').distinct().count()\n",
        "print ('{} out of {} movies are rated by only one user'.format(tmp1, tmp2))"
      ],
      "execution_count": null,
      "outputs": [
        {
          "output_type": "stream",
          "text": [
            "2429325 out of 3826085 movies are rated by only one user\n"
          ],
          "name": "stdout"
        }
      ]
    },
    {
      "cell_type": "code",
      "metadata": {
        "id": "7GSBehuSjPdl",
        "colab": {
          "base_uri": "https://localhost:8080/",
          "height": 50
        },
        "outputId": "31bfd9a3-2fd0-437d-85c2-67c049eb166d"
      },
      "source": [
        "print (\"Number of users who rated movies:\", ratings.select('UserId').distinct().count())\n",
        "print (\"Number of rated movies:\", ratings.select('MovieId').distinct().count())"
      ],
      "execution_count": null,
      "outputs": [
        {
          "output_type": "stream",
          "text": [
            "Number of users who rated movies: 182032\n",
            "Number of rated movies: 3826085\n"
          ],
          "name": "stdout"
        }
      ]
    },
    {
      "cell_type": "markdown",
      "metadata": {
        "id": "7phN5MHJxoJ6"
      },
      "source": [
        "**Summary of Descriptive Statistics**"
      ]
    },
    {
      "cell_type": "code",
      "metadata": {
        "id": "tiwjKaMpxiT_",
        "colab": {
          "base_uri": "https://localhost:8080/",
          "height": 195
        },
        "outputId": "a9386d77-beda-4ae5-d3c1-0771825d5e9a"
      },
      "source": [
        "ratings.describe().toPandas()"
      ],
      "execution_count": null,
      "outputs": [
        {
          "output_type": "execute_result",
          "data": {
            "text/html": [
              "<div>\n",
              "<style scoped>\n",
              "    .dataframe tbody tr th:only-of-type {\n",
              "        vertical-align: middle;\n",
              "    }\n",
              "\n",
              "    .dataframe tbody tr th {\n",
              "        vertical-align: top;\n",
              "    }\n",
              "\n",
              "    .dataframe thead th {\n",
              "        text-align: right;\n",
              "    }\n",
              "</style>\n",
              "<table border=\"1\" class=\"dataframe\">\n",
              "  <thead>\n",
              "    <tr style=\"text-align: right;\">\n",
              "      <th></th>\n",
              "      <th>summary</th>\n",
              "      <th>UserId</th>\n",
              "      <th>MovieId</th>\n",
              "      <th>Rating</th>\n",
              "      <th>Timestamp</th>\n",
              "    </tr>\n",
              "  </thead>\n",
              "  <tbody>\n",
              "    <tr>\n",
              "      <th>0</th>\n",
              "      <td>count</td>\n",
              "      <td>8765568</td>\n",
              "      <td>8765568</td>\n",
              "      <td>8765568</td>\n",
              "      <td>8765568</td>\n",
              "    </tr>\n",
              "    <tr>\n",
              "      <th>1</th>\n",
              "      <td>mean</td>\n",
              "      <td>5.482090734266104E9</td>\n",
              "      <td>None</td>\n",
              "      <td>4.2330105704501975</td>\n",
              "      <td>1.3913399532198713E9</td>\n",
              "    </tr>\n",
              "    <tr>\n",
              "      <th>2</th>\n",
              "      <td>stddev</td>\n",
              "      <td>2.0830512994750547E9</td>\n",
              "      <td>None</td>\n",
              "      <td>1.2214384170934065</td>\n",
              "      <td>1.1170639662611073E8</td>\n",
              "    </tr>\n",
              "    <tr>\n",
              "      <th>3</th>\n",
              "      <td>min</td>\n",
              "      <td>0000143502</td>\n",
              "      <td>A00013803RVZPCZKTT9U</td>\n",
              "      <td>1.0</td>\n",
              "      <td>871948800</td>\n",
              "    </tr>\n",
              "    <tr>\n",
              "      <th>4</th>\n",
              "      <td>max</td>\n",
              "      <td>B01HJF79XO</td>\n",
              "      <td>AZZZYAYJQSDOJ</td>\n",
              "      <td>5.0</td>\n",
              "      <td>1538524800</td>\n",
              "    </tr>\n",
              "  </tbody>\n",
              "</table>\n",
              "</div>"
            ],
            "text/plain": [
              "  summary                UserId  ...              Rating             Timestamp\n",
              "0   count               8765568  ...             8765568               8765568\n",
              "1    mean   5.482090734266104E9  ...  4.2330105704501975  1.3913399532198713E9\n",
              "2  stddev  2.0830512994750547E9  ...  1.2214384170934065  1.1170639662611073E8\n",
              "3     min            0000143502  ...                 1.0             871948800\n",
              "4     max            B01HJF79XO  ...                 5.0            1538524800\n",
              "\n",
              "[5 rows x 5 columns]"
            ]
          },
          "metadata": {
            "tags": []
          },
          "execution_count": 8
        }
      ]
    },
    {
      "cell_type": "markdown",
      "metadata": {
        "id": "vi0ERcsa_S-D"
      },
      "source": [
        "Converting Spark data to well-known Pandas could be done easily with toPandas() method:"
      ]
    },
    {
      "cell_type": "code",
      "metadata": {
        "id": "EYIojN4A8OXS"
      },
      "source": [
        "# To access plotting libraries, we need to first transform our PySpark DataFrame into a Pandas DataFrame\n",
        "Ratings_pdf = ratings.toPandas() "
      ],
      "execution_count": null,
      "outputs": []
    },
    {
      "cell_type": "markdown",
      "metadata": {
        "id": "JBmY1TH0-Nfc"
      },
      "source": [
        "**Analysis of Rating Distributions**"
      ]
    },
    {
      "cell_type": "code",
      "metadata": {
        "id": "wC2FgHyVgOTd",
        "colab": {
          "base_uri": "https://localhost:8080/",
          "height": 369
        },
        "outputId": "e02da476-6f4e-4692-9f9a-86940fb38cc4"
      },
      "source": [
        "with sns.axes_style('white'):\n",
        "    g = sns.catplot(\"Rating\",\n",
        "                data=Ratings_pdf,\n",
        "               kind=\"count\", aspect=2,color='steelblue')\n",
        "     "
      ],
      "execution_count": null,
      "outputs": [
        {
          "output_type": "display_data",
          "data": {
            "image/png": "[encoded data removed]",
            "text/plain": [
              "<Figure size 720x360 with 1 Axes>"
            ]
          },
          "metadata": {
            "tags": []
          }
        }
      ]
    },
    {
      "cell_type": "code",
      "metadata": {
        "id": "6Qcooux57yRR",
        "colab": {
          "base_uri": "https://localhost:8080/",
          "height": 474
        },
        "outputId": "73c3e2b6-b231-40eb-bbe2-2f9a337fad8d"
      },
      "source": [
        "Ratings_pdf_mean_counts = pd.DataFrame(Ratings_pdf.groupby('MovieId')['Rating'].mean())\n",
        "Ratings_pdf_mean_counts['Rating_Counts'] = pd.DataFrame(Ratings_pdf.groupby('MovieId')['Rating'].count())\n",
        "\n",
        "plt.figure(figsize=(12,10))\n",
        "plt.rcParams['patch.force_edgecolor'] = True\n",
        "sns.jointplot(x='Rating', y='Rating_Counts', data=Ratings_pdf_mean_counts, alpha=0.4)"
      ],
      "execution_count": null,
      "outputs": [
        {
          "output_type": "execute_result",
          "data": {
            "text/plain": [
              "<seaborn.axisgrid.JointGrid at 0x7fc32ee5e6d8>"
            ]
          },
          "metadata": {
            "tags": []
          },
          "execution_count": 11
        },
        {
          "output_type": "display_data",
          "data": {
            "text/plain": [
              "<Figure size 864x720 with 0 Axes>"
            ]
          },
          "metadata": {
            "tags": []
          }
        },
        {
          "output_type": "display_data",
          "data": {
            "image/png": "[encoded data removed]",
            "text/plain": [
              "<Figure size 432x432 with 3 Axes>"
            ]
          },
          "metadata": {
            "tags": [],
            "needs_background": "light"
          }
        }
      ]
    },
    {
      "cell_type": "markdown",
      "metadata": {
        "id": "X6EC7gioyEJa"
      },
      "source": [
        "# **Sampling**\n",
        "\n",
        "Here I have decided to take a sample of the dataset for recommendation as the entire dataset is quite huge and implementing various ML techniques like model training, hyperparameter tuning etc. is difficult on free/local resources without crashing\n",
        "\n",
        "I have use stratified sampling to have the best unbiased sample with appropriate size"
      ]
    },
    {
      "cell_type": "code",
      "metadata": {
        "id": "TVs9T2KWsYUF",
        "colab": {
          "base_uri": "https://localhost:8080/",
          "height": 454
        },
        "outputId": "917b81e8-3b75-456e-8cf5-5e39f2d68046"
      },
      "source": [
        "ratings.groupBy(\"MovieId\").count().show()"
      ],
      "execution_count": null,
      "outputs": [
        {
          "output_type": "stream",
          "text": [
            "+--------------+-----+\n",
            "|       MovieId|count|\n",
            "+--------------+-----+\n",
            "| AVIKFXS6MT2YV|    2|\n",
            "|A3826GI7UHI7SZ|    9|\n",
            "|A33GM0OUOWK19O|    1|\n",
            "|A1687MV0PLK74B|   16|\n",
            "| AB64DUL65WO6O|   10|\n",
            "|A1FWW47TZ65PNY|    1|\n",
            "|A3RJ48YJJ3NOII|   18|\n",
            "|A1M0G9T633G1C3|    5|\n",
            "|A2QVL8FGY79WWH|    3|\n",
            "|A20TI7T43DCSRY|    2|\n",
            "|A343A2TZEZ9Y86|    1|\n",
            "| A6GMEO3VRY51S|  207|\n",
            "|A2DNWSXNZBD204|   23|\n",
            "| AZS14W9Q9XCUQ|    8|\n",
            "| AX3NVXGCTQ8AN|    1|\n",
            "| AYMM8AP7UVA8Y|    1|\n",
            "|A2E130DG40UA2L|   17|\n",
            "| ASWG8EJHCWPKC|   21|\n",
            "|A1UFEP3IOALM8V|    1|\n",
            "|A2BUPLL6RIQBRB|    1|\n",
            "+--------------+-----+\n",
            "only showing top 20 rows\n",
            "\n"
          ],
          "name": "stdout"
        }
      ]
    },
    {
      "cell_type": "code",
      "metadata": {
        "id": "sWkXp-adtCLy",
        "colab": {
          "base_uri": "https://localhost:8080/",
          "height": 622
        },
        "outputId": "13780721-e3ee-48cc-c957-f263af6b4e61"
      },
      "source": [
        "fractions = ratings.select(\"MovieId\").distinct().withColumn(\"fraction\", lit(0.7)).rdd.collectAsMap()\n",
        "print(fractions)                                                            \n",
        "sampled_ratings = ratings.stat.sampleBy(\"MovieId\", fractions, seed=1234)\n",
        "sampled_ratings.show()"
      ],
      "execution_count": null,
      "outputs": [
        {
          "output_type": "stream",
          "text": [
            "IOPub data rate exceeded.\n",
            "The notebook server will temporarily stop sending output\n",
            "to the client in order to avoid crashing it.\n",
            "To change this limit, set the config variable\n",
            "`--NotebookApp.iopub_data_rate_limit`.\n",
            "\n",
            "Current values:\n",
            "NotebookApp.iopub_data_rate_limit=1000000.0 (bytes/sec)\n",
            "NotebookApp.rate_limit_window=3.0 (secs)\n",
            "\n"
          ],
          "name": "stderr"
        },
        {
          "output_type": "stream",
          "text": [
            "+----------+--------------+------+----------+\n",
            "|    UserId|       MovieId|Rating| Timestamp|\n",
            "+----------+--------------+------+----------+\n",
            "|0001527665|A23EJWOW1TLENE|   5.0|1358380800|\n",
            "|0001527665|A1KM9FNEJ8Q171|   5.0|1357776000|\n",
            "|0001527665| AHTYUW2H1276L|   5.0|1353024000|\n",
            "|0001527665|A3M3HCZLXW0YLF|   5.0|1342310400|\n",
            "|0001527665|A1OMHX76O2NC6V|   1.0|1283472000|\n",
            "|0001527665|A3OBOZ41IK6O1M|   1.0|1273190400|\n",
            "|0005089549|A2M1CU2IRZG0K9|   5.0|1352419200|\n",
            "|0005089549|A1XIXLXK9B4DAJ|   5.0|1347321600|\n",
            "|0005089549| AFTUJYISOFHY6|   5.0|1325203200|\n",
            "|0005089549| AEIAQFCWNRUSE|   5.0|1301702400|\n",
            "|0005089549|A16WO8T4YXGVWP|   5.0|1277596800|\n",
            "|0005089549| AX7ANRP31Q7YA|   5.0|1240272000|\n",
            "|0005089549| AIPN1XFK37ZWI|   5.0| 933984000|\n",
            "|000503860X| A7H20K09VIXXT|   4.0|1123891200|\n",
            "|000503860X|A2LGI22B6XRZVA|   5.0|1123286400|\n",
            "|000503860X|A2A4GWAEM3VOW0|   5.0|1116374400|\n",
            "|000503860X|A226BMXAQAJVOQ|   5.0|1115942400|\n",
            "|000503860X| AIL0Y2OUE1680|   5.0|1115942400|\n",
            "|000503860X|A12VPEOEZS1KTC|   5.0|1112745600|\n",
            "|000503860X| ATLZNVLYKP9AZ|   5.0|1291334400|\n",
            "+----------+--------------+------+----------+\n",
            "only showing top 20 rows\n",
            "\n"
          ],
          "name": "stdout"
        }
      ]
    },
    {
      "cell_type": "code",
      "metadata": {
        "id": "XdIMrIEPtm2l",
        "colab": {
          "base_uri": "https://localhost:8080/",
          "height": 34
        },
        "outputId": "b545f7bf-8455-44ac-b9e9-8a362874a0ff"
      },
      "source": [
        "sampled_ratings.count()"
      ],
      "execution_count": null,
      "outputs": [
        {
          "output_type": "execute_result",
          "data": {
            "text/plain": [
              "6137221"
            ]
          },
          "metadata": {
            "tags": []
          },
          "execution_count": 12
        }
      ]
    },
    {
      "cell_type": "code",
      "metadata": {
        "id": "xcdJvg1ByNtq",
        "colab": {
          "base_uri": "https://localhost:8080/",
          "height": 454
        },
        "outputId": "4f37f2d7-ef86-48f1-c7ee-4071d485d74b"
      },
      "source": [
        "sampled_ratings.groupBy(\"MovieId\").count().show()"
      ],
      "execution_count": null,
      "outputs": [
        {
          "output_type": "stream",
          "text": [
            "+--------------+-----+\n",
            "|       MovieId|count|\n",
            "+--------------+-----+\n",
            "|A3826GI7UHI7SZ|    7|\n",
            "|A33GM0OUOWK19O|    1|\n",
            "|A1687MV0PLK74B|   13|\n",
            "| AB64DUL65WO6O|    9|\n",
            "|A1FWW47TZ65PNY|    1|\n",
            "|A1M0G9T633G1C3|    2|\n",
            "|A2QVL8FGY79WWH|    2|\n",
            "|A20TI7T43DCSRY|    2|\n",
            "| A6GMEO3VRY51S|  143|\n",
            "| AYMM8AP7UVA8Y|    1|\n",
            "| ASWG8EJHCWPKC|   15|\n",
            "|A1UFEP3IOALM8V|    1|\n",
            "|A39VS8820WCN0G|    7|\n",
            "| ANEDXRFDZDL18|  161|\n",
            "| A8PL5OAS7IWKR|   21|\n",
            "|A1GX7WCR2HBXNH|   11|\n",
            "|A3NYF46FNW70VP|    1|\n",
            "|A3510KIIRV4KZV|    1|\n",
            "|A1KHZXNXZS8EUN|    1|\n",
            "|A2DWUZLALBWVM6|    2|\n",
            "+--------------+-----+\n",
            "only showing top 20 rows\n",
            "\n"
          ],
          "name": "stdout"
        }
      ]
    },
    {
      "cell_type": "markdown",
      "metadata": {
        "id": "E0whL20S_MYc"
      },
      "source": [
        "Converting Spark data to well-known Pandas could be done easily with toPandas() method:"
      ]
    },
    {
      "cell_type": "code",
      "metadata": {
        "id": "1eiUqX74xxWC"
      },
      "source": [
        "# To access plotting libraries, we need to first transform our PySpark DataFrame into a Pandas DataFrame\n",
        "Rating_pdf = sampled_ratings.toPandas() "
      ],
      "execution_count": null,
      "outputs": []
    },
    {
      "cell_type": "code",
      "metadata": {
        "id": "VTxnfkJHp8E8",
        "colab": {
          "base_uri": "https://localhost:8080/",
          "height": 279
        },
        "outputId": "dbfb147f-7ed8-4deb-cbd4-a5aac742b973"
      },
      "source": [
        "with sns.axes_style('white'):\n",
        "     ax = sns.violinplot(x=Ratings_pdf[\"Rating\"])"
      ],
      "execution_count": null,
      "outputs": [
        {
          "output_type": "display_data",
          "data": {
            "image/png": "[encoded data removed]",
            "text/plain": [
              "<Figure size 432x288 with 1 Axes>"
            ]
          },
          "metadata": {
            "tags": []
          }
        }
      ]
    },
    {
      "cell_type": "code",
      "metadata": {
        "id": "HdcQtaOcytdN",
        "colab": {
          "base_uri": "https://localhost:8080/",
          "height": 486
        },
        "outputId": "beec9e3b-b932-440a-b33d-01b3010883df"
      },
      "source": [
        "Rating_pdf_mean_counts = pd.DataFrame(Rating_pdf.groupby('MovieId')['Rating'].mean())\n",
        "Rating_pdf_mean_counts['Rating_Counts'] = pd.DataFrame(Rating_pdf.groupby('MovieId')['Rating'].count())\n",
        "\n",
        "plt.figure(figsize=(12,10))\n",
        "plt.rcParams['patch.force_edgecolor'] = True\n",
        "sns.jointplot(x='Rating', y='Rating_Counts', data=Rating_pdf_mean_counts, alpha=0.4)"
      ],
      "execution_count": null,
      "outputs": [
        {
          "output_type": "execute_result",
          "data": {
            "text/plain": [
              "<seaborn.axisgrid.JointGrid at 0x7f33966e7c18>"
            ]
          },
          "metadata": {
            "tags": []
          },
          "execution_count": 18
        },
        {
          "output_type": "display_data",
          "data": {
            "text/plain": [
              "<Figure size 864x720 with 0 Axes>"
            ]
          },
          "metadata": {
            "tags": []
          }
        },
        {
          "output_type": "display_data",
          "data": {
            "image/png": "[encoded data removed]",
            "text/plain": [
              "<Figure size 432x432 with 3 Axes>"
            ]
          },
          "metadata": {
            "tags": [],
            "needs_background": "light"
          }
        }
      ]
    },
    {
      "cell_type": "markdown",
      "metadata": {
        "id": "lTCOnJPekp3A"
      },
      "source": [
        "# **Data Pre-processing**\n",
        "\n",
        "The data is processed to have the right set of variables and its types for implementing the ML algorithm, in our case it is Alternating Least Square (ALS) which recommends using Collaborative filtering"
      ]
    },
    {
      "cell_type": "code",
      "metadata": {
        "id": "nyTyNU-NksmF"
      },
      "source": [
        "Ratings = sampled_ratings.select(\"UserId\", \"MovieId\", \"Rating\")"
      ],
      "execution_count": null,
      "outputs": []
    },
    {
      "cell_type": "code",
      "metadata": {
        "id": "N6wh2dVHk3pA",
        "colab": {
          "base_uri": "https://localhost:8080/",
          "height": 101
        },
        "outputId": "8f517b9a-e178-4262-997f-9a06a1ac4326"
      },
      "source": [
        "# inspect the schema of the data frame\n",
        "Ratings.printSchema()"
      ],
      "execution_count": null,
      "outputs": [
        {
          "output_type": "stream",
          "text": [
            "root\n",
            " |-- UserId: string (nullable = true)\n",
            " |-- MovieId: string (nullable = true)\n",
            " |-- Rating: double (nullable = true)\n",
            "\n"
          ],
          "name": "stdout"
        }
      ]
    },
    {
      "cell_type": "code",
      "metadata": {
        "id": "9GupHYwWLS81",
        "colab": {
          "base_uri": "https://localhost:8080/",
          "height": 454
        },
        "outputId": "29e8c10e-2524-4d65-f9b9-03572a3905a5"
      },
      "source": [
        "# The userId and movieId have to be integers or double, and the rating has to be float/double numbers.\n",
        "from pyspark.ml import Pipeline\n",
        "from pyspark.ml.feature import StringIndexer\n",
        "\n",
        "indexers = [StringIndexer(inputCol=column, outputCol=column+\"_index\").fit(Ratings) for column in list(set(Ratings.columns)-set(['Rating'])) ]\n",
        "\n",
        "\n",
        "pipeline = Pipeline(stages=indexers)\n",
        "Ratings_df = pipeline.fit(Ratings).transform(Ratings)\n",
        "\n",
        "Ratings_df.show() "
      ],
      "execution_count": null,
      "outputs": [
        {
          "output_type": "stream",
          "text": [
            "+----------+--------------+------+-------------+------------+\n",
            "|    UserId|       MovieId|Rating|MovieId_index|UserId_index|\n",
            "+----------+--------------+------+-------------+------------+\n",
            "|0001527665|A23EJWOW1TLENE|   5.0|    1572690.0|     44694.0|\n",
            "|0001527665|A1KM9FNEJ8Q171|   5.0|     553740.0|     44694.0|\n",
            "|0001527665| AHTYUW2H1276L|   5.0|    2756451.0|     44694.0|\n",
            "|0001527665|A3M3HCZLXW0YLF|   5.0|     824414.0|     44694.0|\n",
            "|0001527665|A1OMHX76O2NC6V|   1.0|    1350975.0|     44694.0|\n",
            "|0001527665|A3OBOZ41IK6O1M|   1.0|    2429282.0|     44694.0|\n",
            "|0005089549|A2M1CU2IRZG0K9|   5.0|     368343.0|     39345.0|\n",
            "|0005089549|A1XIXLXK9B4DAJ|   5.0|    1485046.0|     39345.0|\n",
            "|0005089549| AFTUJYISOFHY6|   5.0|     272548.0|     39345.0|\n",
            "|0005089549| AEIAQFCWNRUSE|   5.0|    2706410.0|     39345.0|\n",
            "|0005089549|A16WO8T4YXGVWP|   5.0|     197473.0|     39345.0|\n",
            "|0005089549| AX7ANRP31Q7YA|   5.0|    2987424.0|     39345.0|\n",
            "|0005089549| AIPN1XFK37ZWI|   5.0|    2769622.0|     39345.0|\n",
            "|000503860X| A7H20K09VIXXT|   4.0|     874585.0|     36530.0|\n",
            "|000503860X|A2LGI22B6XRZVA|   5.0|    1844208.0|     36530.0|\n",
            "|000503860X|A2A4GWAEM3VOW0|   5.0|     647867.0|     36530.0|\n",
            "|000503860X|A226BMXAQAJVOQ|   5.0|    1554177.0|     36530.0|\n",
            "|000503860X| AIL0Y2OUE1680|   5.0|     915540.0|     36530.0|\n",
            "|000503860X|A12VPEOEZS1KTC|   5.0|       9387.0|     36530.0|\n",
            "|000503860X| ATLZNVLYKP9AZ|   5.0|      22466.0|     36530.0|\n",
            "+----------+--------------+------+-------------+------------+\n",
            "only showing top 20 rows\n",
            "\n"
          ],
          "name": "stdout"
        }
      ]
    },
    {
      "cell_type": "code",
      "metadata": {
        "id": "QpGZNko8GZP5"
      },
      "source": [
        "Ratings_df = Ratings_df.drop('UserId','MovieId')"
      ],
      "execution_count": null,
      "outputs": []
    },
    {
      "cell_type": "code",
      "metadata": {
        "id": "Rdr29YtHlM6g",
        "colab": {
          "base_uri": "https://localhost:8080/",
          "height": 101
        },
        "outputId": "5f90d803-6acd-4f96-b548-e8422f1ae92d"
      },
      "source": [
        "# inspect the schema again\n",
        "Ratings_df.printSchema()"
      ],
      "execution_count": null,
      "outputs": [
        {
          "output_type": "stream",
          "text": [
            "root\n",
            " |-- Rating: double (nullable = true)\n",
            " |-- MovieId_index: double (nullable = false)\n",
            " |-- UserId_index: double (nullable = false)\n",
            "\n"
          ],
          "name": "stdout"
        }
      ]
    },
    {
      "cell_type": "markdown",
      "metadata": {
        "id": "_OYIvFPlPyRA"
      },
      "source": [
        "**Extracting the stratified sampling file \"sample_ratings\" and save the file in the drive**"
      ]
    },
    {
      "cell_type": "code",
      "metadata": {
        "id": "P04w2VZ8IxuX"
      },
      "source": [
        "Ratings_df.coalesce(1).write.csv('/content/drive/My Drive/sample_ratings.csv')\n"
      ],
      "execution_count": null,
      "outputs": []
    },
    {
      "cell_type": "markdown",
      "metadata": {
        "id": "9XOA6uMujQyx"
      },
      "source": [
        "**Loading the sampled dataset**\n",
        "\n",
        "Let's read the Movie and TV ratings dataset from the Google drive and do a quick inspection of the dataset\n"
      ]
    },
    {
      "cell_type": "code",
      "metadata": {
        "id": "WSxLXd1DbyIm"
      },
      "source": [
        "# read in the dataset from google drive\n",
        "ratings_df = spark.read.load(\"/content/drive/My Drive/sample_ratings.csv\", \n",
        "                         format=\"csv\", \n",
        "                         inferSchema=\"true\", \n",
        "                         header=\"false\"\n",
        "                         )"
      ],
      "execution_count": null,
      "outputs": []
    },
    {
      "cell_type": "code",
      "metadata": {
        "id": "PILdNEfHcM0h",
        "colab": {
          "base_uri": "https://localhost:8080/",
          "height": 34
        },
        "outputId": "d5baef4e-cded-490c-b2ea-0c083cb2cc32"
      },
      "source": [
        "# number of rows in the dataset\n",
        "ratings_df.count()"
      ],
      "execution_count": null,
      "outputs": [
        {
          "output_type": "execute_result",
          "data": {
            "text/plain": [
              "6137221"
            ]
          },
          "metadata": {
            "tags": []
          },
          "execution_count": 26
        }
      ]
    },
    {
      "cell_type": "code",
      "metadata": {
        "id": "tyX1a1MdcnmG",
        "colab": {
          "base_uri": "https://localhost:8080/",
          "height": 454
        },
        "outputId": "d8d40cad-362a-41b3-caff-d0ac5794f0ef"
      },
      "source": [
        "# Printing the head of dataset \n",
        "ratings_df.show()"
      ],
      "execution_count": null,
      "outputs": [
        {
          "output_type": "stream",
          "text": [
            "+---+---------+-------+\n",
            "|_c0|      _c1|    _c2|\n",
            "+---+---------+-------+\n",
            "|5.0|1572690.0|44694.0|\n",
            "|5.0| 553740.0|44694.0|\n",
            "|5.0|2756451.0|44694.0|\n",
            "|5.0| 824414.0|44694.0|\n",
            "|1.0|1350975.0|44694.0|\n",
            "|1.0|2429282.0|44694.0|\n",
            "|5.0| 368343.0|39345.0|\n",
            "|5.0|1485046.0|39345.0|\n",
            "|5.0| 272548.0|39345.0|\n",
            "|5.0|2706410.0|39345.0|\n",
            "|5.0| 197473.0|39345.0|\n",
            "|5.0|2987424.0|39345.0|\n",
            "|5.0|2769622.0|39345.0|\n",
            "|4.0| 874585.0|36530.0|\n",
            "|5.0|1844208.0|36530.0|\n",
            "|5.0| 647867.0|36530.0|\n",
            "|5.0|1554177.0|36530.0|\n",
            "|5.0| 915540.0|36530.0|\n",
            "|5.0|   9387.0|36530.0|\n",
            "|5.0|  22466.0|36530.0|\n",
            "+---+---------+-------+\n",
            "only showing top 20 rows\n",
            "\n"
          ],
          "name": "stdout"
        }
      ]
    },
    {
      "cell_type": "code",
      "metadata": {
        "id": "CZUxOmnNdR1h",
        "colab": {
          "base_uri": "https://localhost:8080/",
          "height": 454
        },
        "outputId": "f1934cd3-b301-40b3-9628-07f35b840cce"
      },
      "source": [
        "# Renaming the columns of the dataset for Easy reference\n",
        "ratings_df = ratings_df.select(col(\"_c0\").alias(\"Rating\"), col(\"_c1\").alias(\"MovieId_index\"),col(\"_c2\").alias(\"UserId_index\"))\n",
        "ratings_df.show()"
      ],
      "execution_count": null,
      "outputs": [
        {
          "output_type": "stream",
          "text": [
            "+------+-------------+------------+\n",
            "|Rating|MovieId_index|UserId_index|\n",
            "+------+-------------+------------+\n",
            "|   5.0|    1572690.0|     44694.0|\n",
            "|   5.0|     553740.0|     44694.0|\n",
            "|   5.0|    2756451.0|     44694.0|\n",
            "|   5.0|     824414.0|     44694.0|\n",
            "|   1.0|    1350975.0|     44694.0|\n",
            "|   1.0|    2429282.0|     44694.0|\n",
            "|   5.0|     368343.0|     39345.0|\n",
            "|   5.0|    1485046.0|     39345.0|\n",
            "|   5.0|     272548.0|     39345.0|\n",
            "|   5.0|    2706410.0|     39345.0|\n",
            "|   5.0|     197473.0|     39345.0|\n",
            "|   5.0|    2987424.0|     39345.0|\n",
            "|   5.0|    2769622.0|     39345.0|\n",
            "|   4.0|     874585.0|     36530.0|\n",
            "|   5.0|    1844208.0|     36530.0|\n",
            "|   5.0|     647867.0|     36530.0|\n",
            "|   5.0|    1554177.0|     36530.0|\n",
            "|   5.0|     915540.0|     36530.0|\n",
            "|   5.0|       9387.0|     36530.0|\n",
            "|   5.0|      22466.0|     36530.0|\n",
            "+------+-------------+------------+\n",
            "only showing top 20 rows\n",
            "\n"
          ],
          "name": "stdout"
        }
      ]
    },
    {
      "cell_type": "markdown",
      "metadata": {
        "id": "4OpBEJpwMmNc"
      },
      "source": [
        "# **Splitting the dataset into Train and Test**\n",
        "\n",
        "I will split the data into training/testing sets using a 80/20 random splits.\n",
        "This is done to Train the model on train set and finally evaluate the model post predicting on the test set"
      ]
    },
    {
      "cell_type": "code",
      "metadata": {
        "id": "icouul1HmZXh"
      },
      "source": [
        "(train, test) = ratings_df.randomSplit([0.8, 0.2])"
      ],
      "execution_count": null,
      "outputs": []
    },
    {
      "cell_type": "code",
      "metadata": {
        "id": "hBBgZaHKlh80",
        "colab": {
          "base_uri": "https://localhost:8080/",
          "height": 34
        },
        "outputId": "6116581d-bdb5-4647-82fa-f3ddcba1e6e8"
      },
      "source": [
        "print (\"The number of ratings in each set: {}, {}\".format(train.count(), test.count()))"
      ],
      "execution_count": null,
      "outputs": [
        {
          "output_type": "stream",
          "text": [
            "The number of ratings in each set: 4910969, 1226252\n"
          ],
          "name": "stdout"
        }
      ]
    },
    {
      "cell_type": "markdown",
      "metadata": {
        "id": "vzxk3bTskE6K"
      },
      "source": [
        "# **Alternating Least Squares (ALS)**\n",
        "\n",
        "Let's take a look on parameters, and try to find any improvements.\n",
        "\n",
        "Parameters of ALS Model in PySpark realization are following:\n",
        "\n",
        "\n",
        "\n",
        "*   **NumBlocks** is the number of blocks the users and items will be partitioned intoin order to parallelize computation.(set to -1 to auto-configure).\n",
        "*   **rank** is the number of latent factors in the model.\n",
        "\n",
        "*   **maxIter** is the maximum number of iterations to run.\n",
        "\n",
        "*   **regParam** specifies the regularization parameter in ALS.\n",
        "*   **implicitPrefs** specifies whether to use the explicit feedback ALS variant or one adapted for implicit feedback data (defaults to false which means using explicit feedback).\n",
        "*   **alpha** is a parameter applicable to the implicit feedback variant of ALS that governs the baseline confidence in preference observations (defaults to 1.0)."
      ]
    },
    {
      "cell_type": "code",
      "metadata": {
        "id": "7YKZCueySleA"
      },
      "source": [
        "# Build the recommendation model using ALS on the training data\n",
        "# Note we set cold start strategy to 'drop' to ensure we don't get NaN evaluation metrics\n",
        "from pyspark.ml.recommendation import ALS\n",
        "als = ALS(rank = 25, maxIter=5, regParam=0.01, \n",
        "          userCol=\"UserId_index\", itemCol=\"MovieId_index\", ratingCol=\"Rating\",\n",
        "          coldStartStrategy=\"drop\",\n",
        "          implicitPrefs=True)\n"
      ],
      "execution_count": null,
      "outputs": []
    },
    {
      "cell_type": "code",
      "metadata": {
        "id": "0Gjpw4IT4QbI"
      },
      "source": [
        "# fit the model to the training data\n",
        "model = als.fit(train) "
      ],
      "execution_count": null,
      "outputs": []
    },
    {
      "cell_type": "markdown",
      "metadata": {
        "id": "zr94bvUS39gi"
      },
      "source": [
        "#**Make predictions on test_data**"
      ]
    },
    {
      "cell_type": "code",
      "metadata": {
        "id": "PeHAB_QsndiR",
        "colab": {
          "base_uri": "https://localhost:8080/",
          "height": 454
        },
        "outputId": "c78aaa37-c4e0-40d1-8ef0-87ce37ba4dcc"
      },
      "source": [
        "predictions_als = model.transform(test)\n",
        "\n",
        "# View the predictions \n",
        "predictions_als.show()"
      ],
      "execution_count": null,
      "outputs": [
        {
          "output_type": "stream",
          "text": [
            "+------+-------------+------------+-----------+\n",
            "|Rating|MovieId_index|UserId_index| prediction|\n",
            "+------+-------------+------------+-----------+\n",
            "|   5.0|        148.0|       458.0| 0.39505172|\n",
            "|   3.0|        148.0|     12322.0|0.039479308|\n",
            "|   5.0|        148.0|       155.0| 0.34969345|\n",
            "|   3.0|        148.0|      1700.0| 0.28224003|\n",
            "|   5.0|        148.0|      1226.0| 0.26553732|\n",
            "|   5.0|        148.0|     11677.0| 0.22716017|\n",
            "|   5.0|        148.0|       908.0|  0.5086603|\n",
            "|   5.0|        148.0|       916.0| 0.14837763|\n",
            "|   3.0|        148.0|      3037.0| 0.07306489|\n",
            "|   5.0|        148.0|      4363.0|0.108396456|\n",
            "|   5.0|        148.0|      7742.0| 0.15486585|\n",
            "|   3.0|        148.0|     14032.0|0.049149938|\n",
            "|   5.0|        148.0|       246.0| 0.18326698|\n",
            "|   4.0|        148.0|       861.0| 0.54574233|\n",
            "|   5.0|        148.0|      6350.0|  0.0642322|\n",
            "|   5.0|        148.0|      2466.0| 0.23370916|\n",
            "|   3.0|        148.0|      1599.0| 0.22250427|\n",
            "|   4.0|        148.0|      4515.0| 0.24154097|\n",
            "|   2.0|        148.0|      2296.0| 0.17780864|\n",
            "|   4.0|        148.0|      1467.0|   0.232636|\n",
            "+------+-------------+------------+-----------+\n",
            "only showing top 20 rows\n",
            "\n"
          ],
          "name": "stdout"
        }
      ]
    },
    {
      "cell_type": "markdown",
      "metadata": {
        "id": "cUTAeSVO4MGp"
      },
      "source": [
        "#**Evaluate the predictions**\n",
        "\n",
        "Evaluate the model by computing the RMSE on the test data"
      ]
    },
    {
      "cell_type": "code",
      "metadata": {
        "id": "V7_9cy16UbGO",
        "colab": {
          "base_uri": "https://localhost:8080/",
          "height": 34
        },
        "outputId": "adfb6077-cb06-4f92-f711-054442fd49ca"
      },
      "source": [
        "# Evaluate the model by computing the RMSE on the test data\n",
        "from pyspark.ml.evaluation import RegressionEvaluator\n",
        "\n",
        "evaluator = RegressionEvaluator(metricName=\"rmse\", labelCol=\"Rating\",\n",
        "                                predictionCol=\"prediction\")\n",
        "\n",
        "rmse = evaluator.evaluate(predictions_als)\n",
        "print(\"Root-mean-square error = \" + str(rmse)) "
      ],
      "execution_count": null,
      "outputs": [
        {
          "output_type": "stream",
          "text": [
            "Root-mean-square error = 4.361782907696021\n"
          ],
          "name": "stdout"
        }
      ]
    },
    {
      "cell_type": "markdown",
      "metadata": {
        "id": "p51pXH7U4bL5"
      },
      "source": [
        "#**Evaluate the predictions**\n",
        "Evaluate the model by computing the MAE on the test data"
      ]
    },
    {
      "cell_type": "code",
      "metadata": {
        "id": "UPmwHkIFsHA2",
        "colab": {
          "base_uri": "https://localhost:8080/",
          "height": 34
        },
        "outputId": "e209d7e1-d533-494c-8a9e-e2b6d6e2e949"
      },
      "source": [
        "# instantiate evaluator, specifying the desired metric \"mae\" and the columns\n",
        "# that contain the predictions and the actual values\n",
        "evaluator = RegressionEvaluator(metricName=\"mae\", predictionCol=\"prediction\", labelCol=\"Rating\")\n",
        "\n",
        "# evaluate the output of our model\n",
        "mae = evaluator.evaluate(predictions_als)\n",
        "\n",
        "print('The Mean Absolute Error is %.3f' % (mae))"
      ],
      "execution_count": null,
      "outputs": [
        {
          "output_type": "stream",
          "text": [
            "The Mean Absolute Error is 4.207\n"
          ],
          "name": "stdout"
        }
      ]
    },
    {
      "cell_type": "markdown",
      "metadata": {
        "id": "i9Otu1QlHgW0"
      },
      "source": [
        "In this we have achieved very high RMSE & MAE score \n",
        "\n"
      ]
    },
    {
      "cell_type": "markdown",
      "metadata": {
        "id": "TV_yQk_XI2dZ"
      },
      "source": [
        "#**Parameter Optimization**"
      ]
    },
    {
      "cell_type": "markdown",
      "metadata": {
        "id": "LjAghOY5W0q8"
      },
      "source": [
        "#**TrainValidationSplit**\n",
        "\n",
        "\n",
        "The parameters we will search over are:\n",
        "\n",
        "\n",
        "*   **Rank** - The number of hidden features that we will use to describe the users/movies.\n",
        "\n",
        "*   **RegParam** - The regularization parameter applied to the cost function.\n",
        "\n"
      ]
    },
    {
      "cell_type": "markdown",
      "metadata": {
        "id": "2wfgeMSw7Di3"
      },
      "source": [
        "**Root Mean Square Error**\n",
        "\n"
      ]
    },
    {
      "cell_type": "code",
      "metadata": {
        "id": "sp5EkFhYvDZQ"
      },
      "source": [
        "from pyspark.ml.tuning import TrainValidationSplit, ParamGridBuilder\n",
        "from pyspark.ml.recommendation import ALS\n",
        "from pyspark.ml.evaluation import RegressionEvaluator\n",
        "\n",
        "#create a new ALS estimator\n",
        "als = ALS(userCol=\"UserId_index\", itemCol=\"MovieId_index\", ratingCol=\"Rating\", coldStartStrategy=\"drop\")\n",
        "#define a grid for both parameters\n",
        "paramGrid = ParamGridBuilder() \\\n",
        "    .addGrid(als.rank, [5, 10, 15]) \\\n",
        "    .addGrid(als.regParam, [1, 0.1, 0.01]) \\\n",
        "    .build()"
      ],
      "execution_count": null,
      "outputs": []
    },
    {
      "cell_type": "code",
      "metadata": {
        "id": "CWAFXDu424RT"
      },
      "source": [
        "# Define evaluator as RMSE\n",
        "evaluator = RegressionEvaluator(metricName=\"rmse\", predictionCol=\"prediction\", labelCol=\"Rating\")"
      ],
      "execution_count": null,
      "outputs": []
    },
    {
      "cell_type": "code",
      "metadata": {
        "id": "0Ni-j8RxKjA1"
      },
      "source": [
        "# split the data with a ratio of 80% training, 20% validation\n",
        "# define the estimator and evaluator to use to determine the best model\n",
        "# also pass in the parameter grid to search over\n",
        "trainValSplit = TrainValidationSplit(estimator = als, estimatorParamMaps=paramGrid, \n",
        "  evaluator = RegressionEvaluator(metricName=\"rmse\", predictionCol=\"prediction\", labelCol=\"Rating\"), \n",
        "  trainRatio = 0.8, parallelism = 4)"
      ],
      "execution_count": null,
      "outputs": []
    },
    {
      "cell_type": "code",
      "metadata": {
        "id": "rmfbnNlrv8jN"
      },
      "source": [
        "# fit the model to the training data\n",
        "model = trainValSplit.fit(train)"
      ],
      "execution_count": null,
      "outputs": []
    },
    {
      "cell_type": "code",
      "metadata": {
        "id": "vbmQ7F0VsIux"
      },
      "source": [
        "# retrieve the best model\n",
        "bestModel = model.bestModel"
      ],
      "execution_count": null,
      "outputs": []
    },
    {
      "cell_type": "markdown",
      "metadata": {
        "id": "92sjZ4-0-DQD"
      },
      "source": [
        "Unfortunately there is currently no way in spark to see which combination of hyperparameters were used in the best model. We now use the best model to transform the test data and compute predictions & evaluate."
      ]
    },
    {
      "cell_type": "markdown",
      "metadata": {
        "id": "qK-JeWv95J0t"
      },
      "source": [
        "#**Make predictions on test_data**"
      ]
    },
    {
      "cell_type": "code",
      "metadata": {
        "id": "Rxaa2lOkKwTt",
        "colab": {
          "base_uri": "https://localhost:8080/",
          "height": 454
        },
        "outputId": "ef978500-fa2b-4cf7-acf5-61d4d8b6dd6a"
      },
      "source": [
        "# transform test data using bestModel\n",
        "predictions = bestModel.transform(test)\n",
        "\n",
        "# View the predictions \n",
        "predictions.show()"
      ],
      "execution_count": null,
      "outputs": [
        {
          "output_type": "stream",
          "text": [
            "+------+-------------+------------+----------+\n",
            "|Rating|MovieId_index|UserId_index|prediction|\n",
            "+------+-------------+------------+----------+\n",
            "|   3.0|        148.0|     12322.0| 3.0732892|\n",
            "|   4.0|        148.0|     22903.0| 3.5088274|\n",
            "|   5.0|        148.0|      2044.0| 3.3701227|\n",
            "|   5.0|        148.0|      1030.0| 3.3683994|\n",
            "|   4.0|        148.0|     15159.0| 3.2757866|\n",
            "|   2.0|        148.0|      1244.0| 3.1373582|\n",
            "|   3.0|        148.0|      3006.0| 3.1929076|\n",
            "|   5.0|        148.0|     13529.0| 3.1663463|\n",
            "|   5.0|        148.0|       734.0| 3.3845575|\n",
            "|   3.0|        148.0|     10877.0|  3.173956|\n",
            "|   5.0|        148.0|     27199.0| 3.2234533|\n",
            "|   4.0|        148.0|     10458.0|  3.284251|\n",
            "|   5.0|        148.0|      3856.0| 3.3899229|\n",
            "|   1.0|        148.0|     27947.0| 2.8077927|\n",
            "|   1.0|        148.0|     38498.0| 3.2089317|\n",
            "|   5.0|        148.0|      8589.0| 3.1504912|\n",
            "|   3.0|        148.0|      3298.0|  2.987259|\n",
            "|   5.0|        148.0|      4897.0|  3.238539|\n",
            "|   5.0|        148.0|      3505.0| 3.3055627|\n",
            "|   2.0|        148.0|       930.0| 2.2503598|\n",
            "+------+-------------+------------+----------+\n",
            "only showing top 20 rows\n",
            "\n"
          ],
          "name": "stdout"
        }
      ]
    },
    {
      "cell_type": "markdown",
      "metadata": {
        "id": "MYYZfK1m4qun"
      },
      "source": [
        "#**Evaluate the predictions**\n",
        "Evaluate the model by computing the RMSE on the test data"
      ]
    },
    {
      "cell_type": "code",
      "metadata": {
        "id": "NCo-6ZbyKtAk",
        "colab": {
          "base_uri": "https://localhost:8080/",
          "height": 34
        },
        "outputId": "7f118275-be40-468c-8bfe-16f13af785ba"
      },
      "source": [
        "# evaluate the predictions\n",
        "rmse = evaluator.evaluate(predictions)\n",
        "print('Root Mean Square Error = ' + str(rmse))"
      ],
      "execution_count": null,
      "outputs": [
        {
          "output_type": "stream",
          "text": [
            "Root Mean Square Error = 1.3249204788516387\n"
          ],
          "name": "stdout"
        }
      ]
    },
    {
      "cell_type": "markdown",
      "metadata": {
        "id": "J2MCW5m8Cr2B"
      },
      "source": [
        "# Our RMSE score improved really well over our previous RMSE of 4.361782907696021"
      ]
    },
    {
      "cell_type": "markdown",
      "metadata": {
        "id": "ob7gIYGoBhrN"
      },
      "source": [
        "#**TrainValidationSplit**\n",
        "**Mean Absolute Error**"
      ]
    },
    {
      "cell_type": "code",
      "metadata": {
        "id": "xHPQMZ8_2paD"
      },
      "source": [
        "# Define evaluator as MAE\n",
        "evaluator = RegressionEvaluator(metricName=\"mae\", predictionCol=\"prediction\", labelCol=\"Rating\")"
      ],
      "execution_count": null,
      "outputs": []
    },
    {
      "cell_type": "code",
      "metadata": {
        "id": "fRWdp-vYvyE8"
      },
      "source": [
        "# split the data with a ratio of 80% training, 20% validation\n",
        "# define the estimator and evaluator to use to determine the best model\n",
        "# also pass in the parameter grid to search over\n",
        "trainValSplit_1 = TrainValidationSplit(estimator = als, estimatorParamMaps=paramGrid, \n",
        "    evaluator = RegressionEvaluator(metricName=\"mae\", predictionCol=\"prediction\", labelCol=\"Rating\"), \n",
        "    trainRatio = 0.8, parallelism = 4)"
      ],
      "execution_count": null,
      "outputs": []
    },
    {
      "cell_type": "code",
      "metadata": {
        "id": "z4l0fgAIucxJ"
      },
      "source": [
        "# fit the model to the training data\n",
        "model_1 = trainValSplit_1.fit(train)"
      ],
      "execution_count": null,
      "outputs": []
    },
    {
      "cell_type": "code",
      "metadata": {
        "id": "Dfqq21NFui9o"
      },
      "source": [
        "# retrieve the best model\n",
        "bestModel_1 = model_1.bestModel"
      ],
      "execution_count": null,
      "outputs": []
    },
    {
      "cell_type": "markdown",
      "metadata": {
        "id": "7w_e3tKT-QVO"
      },
      "source": [
        "Unfortunately there is currently no way in spark to see which combination of hyperparameters were used in the best model. We now use the best model to transform the test data and compute predictions & evaluate."
      ]
    },
    {
      "cell_type": "markdown",
      "metadata": {
        "id": "MxYdOvM35NKT"
      },
      "source": [
        "#**Make predictions on test_data**"
      ]
    },
    {
      "cell_type": "code",
      "metadata": {
        "id": "_ScwMeWBusD-",
        "colab": {
          "base_uri": "https://localhost:8080/",
          "height": 454
        },
        "outputId": "59d5a603-6f9d-4289-a20f-e271741fb2c5"
      },
      "source": [
        "# transform test data using bestModel\n",
        "predictions_1 = bestModel_1.transform(test)\n",
        "\n",
        "# View the predictions \n",
        "predictions_1.show()"
      ],
      "execution_count": null,
      "outputs": [
        {
          "output_type": "stream",
          "text": [
            "+------+-------------+------------+----------+\n",
            "|Rating|MovieId_index|UserId_index|prediction|\n",
            "+------+-------------+------------+----------+\n",
            "|   5.0|        148.0|       458.0| 4.0985966|\n",
            "|   4.0|        148.0|      3124.0| 4.4277363|\n",
            "|   5.0|        148.0|      3234.0|   4.64029|\n",
            "|   2.0|        148.0|      3725.0| 2.7166846|\n",
            "|   5.0|        148.0|      2191.0|  4.212287|\n",
            "|   3.0|        148.0|     10877.0| 4.1731853|\n",
            "|   1.0|        148.0|      9813.0|  4.169053|\n",
            "|   4.0|        148.0|      1467.0|  4.785465|\n",
            "|   4.0|        148.0|      3932.0| 4.0899057|\n",
            "|   1.0|        148.0|     38504.0| 2.6704352|\n",
            "|   3.0|        148.0|     35924.0| 4.5422373|\n",
            "|   5.0|        148.0|       545.0|  4.002201|\n",
            "|   1.0|        148.0|     27947.0| 2.8855164|\n",
            "|   3.0|        148.0|     30656.0|   4.43265|\n",
            "|   1.0|        148.0|     38498.0| 3.7581713|\n",
            "|   5.0|        148.0|      8589.0|  4.236023|\n",
            "|   1.0|        148.0|      6693.0| 3.9375055|\n",
            "|   4.0|        148.0|     15711.0| 4.5767956|\n",
            "|   3.0|        148.0|       241.0| 3.6477094|\n",
            "|   4.0|        148.0|       495.0| 4.2112217|\n",
            "+------+-------------+------------+----------+\n",
            "only showing top 20 rows\n",
            "\n"
          ],
          "name": "stdout"
        }
      ]
    },
    {
      "cell_type": "markdown",
      "metadata": {
        "id": "p4zi3T4s4yjZ"
      },
      "source": [
        "#**Evaluate the predictions**\n",
        "Evaluate the model by computing the MAE on the test data"
      ]
    },
    {
      "cell_type": "code",
      "metadata": {
        "id": "IfsAJftJsJAK",
        "colab": {
          "base_uri": "https://localhost:8080/",
          "height": 34
        },
        "outputId": "cdf78648-5df9-4712-ba9d-fea5d85d5888"
      },
      "source": [
        "# evaluate the predictions\n",
        "mae = evaluator.evaluate(predictions_1)\n",
        "print('The Mean Absolute Error is %.3f' % (mae))"
      ],
      "execution_count": null,
      "outputs": [
        {
          "output_type": "stream",
          "text": [
            "The Mean Absolute Error is 1.189\n"
          ],
          "name": "stdout"
        }
      ]
    },
    {
      "cell_type": "markdown",
      "metadata": {
        "id": "JOs0jKd_-sp-"
      },
      "source": [
        "Our MAE score improved really well over our previous MAE of 4.027"
      ]
    },
    {
      "cell_type": "markdown",
      "metadata": {
        "id": "3dF6ITlPzT7v"
      },
      "source": [
        "#**Cross Validation**\n",
        "**Root Mean Square Error**"
      ]
    },
    {
      "cell_type": "code",
      "metadata": {
        "id": "2RByJZnUkIWT"
      },
      "source": [
        "from pyspark.ml.recommendation import ALS\n",
        "# Build generic ALS model without hyperparameters\n",
        "als = ALS(userCol=\"UserId_index\", itemCol=\"MovieId_index\", ratingCol=\"Rating\", coldStartStrategy=\"drop\")\n"
      ],
      "execution_count": null,
      "outputs": []
    },
    {
      "cell_type": "code",
      "metadata": {
        "id": "BeaDLAaNuaja",
        "colab": {
          "base_uri": "https://localhost:8080/",
          "height": 34
        },
        "outputId": "af774cd4-bbe9-4a56-8c88-4751e56b4e95"
      },
      "source": [
        "from pyspark.ml.tuning import ParamGridBuilder, CrossValidator\n",
        "from pyspark.ml.evaluation import RegressionEvaluator\n",
        "\n",
        "param_grid = ParamGridBuilder() \\\n",
        " .addGrid(als.rank, [10, 25]) \\\n",
        " .addGrid(als.maxIter, [10]) \\\n",
        " .addGrid(als.regParam, [.01, .1]) \\\n",
        " .build() \n",
        "# Define evaluator as RMSE\n",
        "evaluator = RegressionEvaluator(metricName=\"rmse\", labelCol=\"Rating\",\n",
        "                                predictionCol=\"prediction\")\n",
        "\n",
        "# Print length of evaluator\n",
        "print (\"Num models to be tested using param_grid: \", len(param_grid))"
      ],
      "execution_count": null,
      "outputs": [
        {
          "output_type": "stream",
          "text": [
            "Num models to be tested using param_grid:  4\n"
          ],
          "name": "stdout"
        }
      ]
    },
    {
      "cell_type": "code",
      "metadata": {
        "id": "z_oAGiUOk3Gt"
      },
      "source": [
        "# Build cross validation step using CrossValidator\n",
        "cv = CrossValidator(estimator = als,\n",
        "estimatorParamMaps = param_grid,\n",
        "evaluator = evaluator,\n",
        "numFolds = 5)\n",
        "\n",
        "# Run the cv on the training data\n",
        "cv_model = cv.fit(train)\n",
        "# Extract best combination of values from cross validation\n",
        "best_model = cv_model.bestModel"
      ],
      "execution_count": null,
      "outputs": []
    },
    {
      "cell_type": "markdown",
      "metadata": {
        "id": "WYRAiZJ0-XVl"
      },
      "source": [
        "Unfortunately there is currently no way in spark to see which combination of hyperparameters were used in the best model. We now use the best model to transform the test data and compute predictions & evaluate."
      ]
    },
    {
      "cell_type": "markdown",
      "metadata": {
        "id": "wIGyWLdz5QBW"
      },
      "source": [
        "#**Make predictions on test_data**"
      ]
    },
    {
      "cell_type": "code",
      "metadata": {
        "id": "kZhmZ7_0R8Am",
        "colab": {
          "base_uri": "https://localhost:8080/",
          "height": 454
        },
        "outputId": "578b7031-4ce7-49ff-8c67-56ed1b9ca6b7"
      },
      "source": [
        "# Generate test set predictions and evaluate using RMSE\n",
        "predictions_2 = best_model.transform(test)\n",
        "\n",
        "# View the predictions \n",
        "predictions_2.show()"
      ],
      "execution_count": null,
      "outputs": [
        {
          "output_type": "stream",
          "text": [
            "+------+-------------+------------+----------+\n",
            "|Rating|MovieId_index|UserId_index|prediction|\n",
            "+------+-------------+------------+----------+\n",
            "|   5.0|        148.0|       918.0| 3.4595466|\n",
            "|   4.0|        148.0|      3124.0| 4.0765095|\n",
            "|   5.0|        148.0|      2907.0|  4.050404|\n",
            "|   5.0|        148.0|      2044.0|  4.590904|\n",
            "|   4.0|        148.0|       412.0| 4.3416543|\n",
            "|   3.0|        148.0|        76.0| 3.2247398|\n",
            "|   4.0|        148.0|     20403.0|  4.263033|\n",
            "|   5.0|        148.0|      1148.0|  3.085285|\n",
            "|   3.0|        148.0|      3037.0|  3.494959|\n",
            "|   4.0|        148.0|       548.0| 4.1852612|\n",
            "|   5.0|        148.0|      3502.0|  4.362046|\n",
            "|   5.0|        148.0|      4363.0| 3.6964378|\n",
            "|   5.0|        148.0|      6350.0|  3.918004|\n",
            "|   4.0|        148.0|     15159.0|   3.79642|\n",
            "|   5.0|        148.0|      2466.0| 3.5998642|\n",
            "|   4.0|        148.0|      2829.0| 3.7341557|\n",
            "|   2.0|        148.0|      2296.0| 3.6550403|\n",
            "|   4.0|        148.0|     15725.0| 4.1780167|\n",
            "|   5.0|        148.0|       308.0| 4.1085505|\n",
            "|   4.0|        148.0|      3890.0|  4.143096|\n",
            "+------+-------------+------------+----------+\n",
            "only showing top 20 rows\n",
            "\n"
          ],
          "name": "stdout"
        }
      ]
    },
    {
      "cell_type": "markdown",
      "metadata": {
        "id": "Ehrb5K3o42cF"
      },
      "source": [
        "#**Evaluate the predictions**\n",
        "Evaluate the model by computing the RMSE on the test data"
      ]
    },
    {
      "cell_type": "code",
      "metadata": {
        "id": "9ctSaF1WlQhX",
        "colab": {
          "base_uri": "https://localhost:8080/",
          "height": 84
        },
        "outputId": "bf65dd6a-ed7f-4c00-dc99-7f3a1d79617f"
      },
      "source": [
        "rmse = evaluator.evaluate(predictions_2)\n",
        "# Print evaluation metrics and model parameters\n",
        "print(\"**Best Model**\")\n",
        "print(\"Root Mean Square Error: {:.3f}\".format(rmse))\n",
        "print(\"RegParam: \"), best_model._java_obj.parent().getRegParam()"
      ],
      "execution_count": null,
      "outputs": [
        {
          "output_type": "stream",
          "text": [
            "**Best Model**\n",
            "Root Mean Square Error: 1.562\n",
            "RegParam: \n"
          ],
          "name": "stdout"
        },
        {
          "output_type": "execute_result",
          "data": {
            "text/plain": [
              "(None, 0.1)"
            ]
          },
          "metadata": {
            "tags": []
          },
          "execution_count": 13
        }
      ]
    },
    {
      "cell_type": "markdown",
      "metadata": {
        "id": "o__FdYRvDSVy"
      },
      "source": [
        "Our RMSE score is improved a bit over our previous RMSE"
      ]
    },
    {
      "cell_type": "markdown",
      "metadata": {
        "id": "kBw1aCksPVvS"
      },
      "source": [
        "#**Cross Validation**\n",
        "\n",
        "**Mean Absolute Error**"
      ]
    },
    {
      "cell_type": "code",
      "metadata": {
        "id": "5b_hzgnt-_V9"
      },
      "source": [
        "from pyspark.ml.recommendation import ALS\n",
        "# Build generic ALS model without hyperparameters\n",
        "als = ALS(userCol=\"UserId_index\", itemCol=\"MovieId_index\", ratingCol=\"Rating\", coldStartStrategy=\"drop\")\n"
      ],
      "execution_count": null,
      "outputs": []
    },
    {
      "cell_type": "code",
      "metadata": {
        "id": "r7G-d_QF_JTI",
        "colab": {
          "base_uri": "https://localhost:8080/",
          "height": 34
        },
        "outputId": "ea6c7d89-2b49-4748-ed0f-9d6d4e892e29"
      },
      "source": [
        "from pyspark.ml.tuning import ParamGridBuilder, CrossValidator\n",
        "from pyspark.ml.evaluation import RegressionEvaluator\n",
        "\n",
        "param_grid = ParamGridBuilder() \\\n",
        " .addGrid(als.rank, [10, 25]) \\\n",
        " .addGrid(als.maxIter, [10]) \\\n",
        " .addGrid(als.regParam, [.01, .1]) \\\n",
        " .build()\n",
        "# Define evaluator as MAE\n",
        "evaluator = RegressionEvaluator(metricName=\"mae\", labelCol=\"Rating\",\n",
        "                                predictionCol=\"prediction\")\n",
        "\n",
        "# Print length of evaluator\n",
        "print (\"Num models to be tested using param_grid: \", len(param_grid))"
      ],
      "execution_count": null,
      "outputs": [
        {
          "output_type": "stream",
          "text": [
            "Num models to be tested using param_grid:  4\n"
          ],
          "name": "stdout"
        }
      ]
    },
    {
      "cell_type": "code",
      "metadata": {
        "id": "hTl_WrYG_Wpy"
      },
      "source": [
        "# Build cross validation step using CrossValidator\n",
        "cv_1 = CrossValidator(estimator = als,\n",
        "estimatorParamMaps = param_grid,\n",
        "evaluator = evaluator,\n",
        "numFolds = 5)\n",
        "\n",
        "# Run the cv on the training data\n",
        "cv_model_1 = cv_1.fit(train)\n",
        "# Extract best combination of values from cross validation\n",
        "best_model_1 = cv_model_1.bestModel"
      ],
      "execution_count": null,
      "outputs": []
    },
    {
      "cell_type": "markdown",
      "metadata": {
        "id": "SaWwMpbM-bEJ"
      },
      "source": [
        "Unfortunately there is currently no way in spark to see which combination of hyperparameters were used in the best model. We now use the best model to transform the test data and compute predictions & evaluate."
      ]
    },
    {
      "cell_type": "markdown",
      "metadata": {
        "id": "fJGdP7tB5SSY"
      },
      "source": [
        "#**Make predictions on test_data**"
      ]
    },
    {
      "cell_type": "code",
      "metadata": {
        "id": "Rp3XIrLs_pon",
        "colab": {
          "base_uri": "https://localhost:8080/",
          "height": 454
        },
        "outputId": "e07bb00d-da51-4ccf-b73d-4b075c84e3dd"
      },
      "source": [
        "# Generate test set predictions and evaluate using MAE\n",
        "predictions_3 = best_model_1.transform(test)\n",
        "\n",
        "# View the predictions \n",
        "predictions_3.show()"
      ],
      "execution_count": null,
      "outputs": [
        {
          "output_type": "stream",
          "text": [
            "+------+-------------+------------+----------+\n",
            "|Rating|MovieId_index|UserId_index|prediction|\n",
            "+------+-------------+------------+----------+\n",
            "|   5.0|        148.0|      2572.0| 3.9373004|\n",
            "|   5.0|        148.0|       918.0| 3.8579354|\n",
            "|   3.0|        148.0|      1675.0| 4.2139797|\n",
            "|   5.0|        148.0|        81.0| 3.5686483|\n",
            "|   5.0|        148.0|      1226.0|  4.609841|\n",
            "|   3.0|        148.0|      1869.0|   4.17163|\n",
            "|   5.0|        148.0|      2044.0| 4.6245217|\n",
            "|   5.0|        148.0|      1030.0| 4.5167594|\n",
            "|   3.0|        148.0|        76.0|  3.432896|\n",
            "|   5.0|        148.0|      2754.0|   4.27392|\n",
            "|   5.0|        148.0|     11677.0| 4.3751707|\n",
            "|   5.0|        148.0|       916.0|  3.806754|\n",
            "|   1.0|        148.0|       984.0|  3.302636|\n",
            "|   5.0|        148.0|     20578.0|  4.790682|\n",
            "|   4.0|        148.0|       548.0|  4.296843|\n",
            "|   5.0|        148.0|      3502.0| 4.5318446|\n",
            "|   5.0|        148.0|      6350.0| 4.0237274|\n",
            "|   3.0|        148.0|      1599.0| 3.8772266|\n",
            "|   4.0|        148.0|     15725.0| 3.6876824|\n",
            "|   5.0|        148.0|       674.0| 4.0111904|\n",
            "+------+-------------+------------+----------+\n",
            "only showing top 20 rows\n",
            "\n"
          ],
          "name": "stdout"
        }
      ]
    },
    {
      "cell_type": "markdown",
      "metadata": {
        "id": "-5Q2vNvD46iM"
      },
      "source": [
        "#**Evaluate the predictions**\n",
        "Evaluate the model by computing the MAE on the test data"
      ]
    },
    {
      "cell_type": "code",
      "metadata": {
        "id": "kUTPW38P_zlI",
        "colab": {
          "base_uri": "https://localhost:8080/",
          "height": 84
        },
        "outputId": "879da9b0-c528-400c-fed1-090a2338cd83"
      },
      "source": [
        "mae = evaluator.evaluate(predictions_3)\n",
        "# Print evaluation metrics and model parameters\n",
        "print(\"**Best Model**\")\n",
        "print(\"Mean Absolute Error: {:.3f}\".format(mae))\n",
        "print(\"RegParam: \"), best_model_1._java_obj.parent().getRegParam()"
      ],
      "execution_count": null,
      "outputs": [
        {
          "output_type": "stream",
          "text": [
            "**Best Model**\n",
            "Mean Absolute Error: 1.161\n",
            "RegParam: \n"
          ],
          "name": "stdout"
        },
        {
          "output_type": "execute_result",
          "data": {
            "text/plain": [
              "(None, 0.1)"
            ]
          },
          "metadata": {
            "tags": []
          },
          "execution_count": 13
        }
      ]
    },
    {
      "cell_type": "markdown",
      "metadata": {
        "id": "4emgM2w1DLu7"
      },
      "source": [
        "Our MAE score is improved a bit over our previous MAE"
      ]
    },
    {
      "cell_type": "markdown",
      "metadata": {
        "id": "qV3FnTct2gSK"
      },
      "source": [
        "# **Provide top Recommendations to all users**\n",
        "\n",
        "The best model converged to, with the use of cross validation is used to provide recommendations for all users "
      ]
    },
    {
      "cell_type": "code",
      "metadata": {
        "id": "O6lsByXT1v67",
        "colab": {
          "base_uri": "https://localhost:8080/",
          "height": 286
        },
        "outputId": "99bc55fa-1cb5-4c79-db04-fdca7579e638"
      },
      "source": [
        "# Finally, using the best model to make recommendations for users\n",
        "ALS_recommendations = best_model.recommendForAllUsers(numItems = 10)\n",
        "ALS_recommendations.show(n = 10) "
      ],
      "execution_count": null,
      "outputs": [
        {
          "output_type": "stream",
          "text": [
            "+------------+--------------------+\n",
            "|UserId_index|     recommendations|\n",
            "+------------+--------------------+\n",
            "|         148|[[230847, 5.99193...|\n",
            "|         463|[[378108, 5.98811...|\n",
            "|         471|[[100760, 5.94824...|\n",
            "|         496|[[144923, 5.83173...|\n",
            "|         833|[[217312, 6.21240...|\n",
            "|        1088|[[137656, 5.77013...|\n",
            "|        1238|[[217312, 6.09007...|\n",
            "|        1342|[[18794, 5.541206...|\n",
            "|        1580|[[58204, 5.744831...|\n",
            "|        1591|[[173694, 5.76754...|\n",
            "+------------+--------------------+\n",
            "only showing top 10 rows\n",
            "\n"
          ],
          "name": "stdout"
        }
      ]
    }
  ]
}